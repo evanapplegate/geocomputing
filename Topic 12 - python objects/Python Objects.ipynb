{
 "cells": [
  {
   "cell_type": "markdown",
   "metadata": {},
   "source": [
    "# Python Objects\n",
    "\n",
    "## Learning Objectives:\n",
    "This is an extremely long section, but there are big chunks of code here, so don't be too worried.  Also, be sure to look at the original iPython code here.  This requires that you've installed [Jupyter](http://jupyter.readthedocs.org/en/latest/install.html), but it might be helpful for you to install it anyway (make sure you install it for Python 2.7).  This helps you keep text and code together in one bundle.  It's made writing these course notes way easier!\n",
    "\n",
    "1. Understand what a class object is\n",
    "    a. How do we declare a class\n",
    "    b. Why do we use classes?\n",
    "    c. How do we assign values to classes?\n",
    "    d. How do we assign methods to classes?\n",
    "2. Understand object/class inheritance and parent/child relationships\n",
    "    a. Understand how composition is different from inheritance\n",
    "3. Understand how to prevent direct manipulation of class attributes\n",
    "\n",
    "# The What and Why of Object Oriented Programming (OOP)\n",
    "\n",
    "Reference: Think, p. 161-182\n",
    "\n",
    "## Objects\n",
    "\n",
    "We talked about objects in Python earlier. At the simplest level, objects are things that include both data and methods.  , but they are more than that. They provide a way to mimic real-world entities that have both state and behaviors.  For example:\n",
    "Bank accounts have a balance and offer ways to add, subtract and query the amount.\n",
    "Farms have an owner, size, soil moisture status, crop condition and a host of other properties, but they also grow crops\n",
    "Lakes have area, volume, pH, etc., and also grow and shrink with inputs and losses\n",
    "Each individual bank account, farm, and lake is unique, but also has much in common with other members of the class. (If not, the \"class\" doesn’t have much meaning.)\n",
    " \n",
    "OOP vocabulary distinguishes between a class, which is an abstraction (e.g., the concept of a lake), and instances, or individual objects within the class (e.g., a particular lake).\n",
    " \n",
    "## Why OOP? What are the benefits?\n",
    "\n",
    "1. **Encapsulation** - bundling and hiding. Many data objects have complex data structures, and particular methods associated with those data structures. If we didn't have \"objects\", the user would have to work through these methods each time they wanted to do some analysis.  With objects, the user only needs to know how to use the object, not what happens inside. Think of a car’s automatic transmission. It is a terribly complicated device, but the internals are encapsulated; almost anybody can use it because the interface is so simple.\n",
    "\n",
    "2. **Polymorphism** - same method name might be found in multiple classes, but have different operations appropriate for the class. We’ve seen examples of this.  The + operator means one thing for numbers but another for strings. Or, consider that the  sort() method works very differently for numbers and strings.\n",
    "\n",
    "3. **Inheritance** - new classes can be based on existing classes.  You don't have to rewrite the code each time, and you can build more complex classes on simpler sets of classes.\n",
    " \n",
    "## Object Oriented Programming in Python\n",
    "Python does not require OOP, but it supports OOP. As more \"serious\" programmers have taken up Python, and as it has been applied to more complex problems, object-orientation has grown with successive releases.\n",
    "\n",
    "Python's idea of OOP is at odds with some basic principles of OOP as seen in other languages. True believers offer explanations of why the \"Pythonic way\" (see [The Zen of Python](https://www.python.org/dev/peps/pep-0020/)) allows such things, but those explanations leave many people unconvinced. If you come to Python from another OO language you might be surprised by some aspects of OOP in Python.\n",
    "\n",
    "# Basics of Class Definition and Use\n",
    " \n",
    "### Defining Classes. \n",
    "\n",
    "A class is defined in much the same way as a function,  but we do not use `def`. Functions are defined with `def`, objects are defined with `class`:"
   ]
  },
  {
   "cell_type": "code",
   "execution_count": null,
   "metadata": {
    "collapsed": true
   },
   "outputs": [],
   "source": [
    "class ClassName:\n",
    " Statement1\n",
    " Statement2\n",
    " Statement3\n",
    " .\n",
    " .\n",
    " .\n",
    " Statementn"
   ]
  },
  {
   "cell_type": "markdown",
   "metadata": {},
   "source": [
    "Here `ClassName` is the name of the new class. `ClassName` follows the rules for variable and function names we've defined earlier.  Standard practice is to start classes with capital letter and use CamelCase (see the [Style Guide](https://www.python.org/dev/peps/pep-0008/#class-names) entry for class names). All statements within the class definition are indented by the same amount, just like in a function.\n",
    " \n",
    "Examples of empty classes, just to show examples of legal class names (pass is a function that does nothing):"
   ]
  },
  {
   "cell_type": "code",
   "execution_count": 10,
   "metadata": {
    "collapsed": true
   },
   "outputs": [],
   "source": [
    "class City:\n",
    "      pass           #pass is a placeholding do-nothing statement\n",
    "\n",
    "class polygon:      #first letter p ok, but P is better\n",
    "     pass\n",
    "\n",
    "class Point3d:     #numbers allowed in a class name\n",
    "     pass\n",
    "\n",
    "class Water_well:   #underscores allowed\n",
    "     pass\n",
    "\n",
    "class StreamReach:  #camel naming\n",
    "     pass"
   ]
  },
  {
   "cell_type": "markdown",
   "metadata": {},
   "source": [
    "## Using Classes\n",
    "### Creating Instances. \n",
    "\n",
    "The above statements merely define the classes, no Point3d or City objects exist. To use a class, we create one or more instances. Instantiation generates new members of the general class. Simplest syntax is:"
   ]
  },
  {
   "cell_type": "code",
   "execution_count": null,
   "metadata": {
    "collapsed": true
   },
   "outputs": [],
   "source": [
    "ClassInstance = ClassName()"
   ]
  },
  {
   "cell_type": "markdown",
   "metadata": {},
   "source": [
    "Where `classInstance` is a variable name and `ClassName` is a previously defined class. We've already defined some classes above (even if they are 'empty' in some sense), so we can assign these classes to variables:"
   ]
  },
  {
   "cell_type": "code",
   "execution_count": 12,
   "metadata": {
    "collapsed": false
   },
   "outputs": [],
   "source": [
    "Dane       = polygon()\n",
    "burtsWell  = Water_well()\n",
    "madison    = City() #an instance of the City class\n",
    "losAngeles = City() #another City, different than madison"
   ]
  },
  {
   "cell_type": "markdown",
   "metadata": {},
   "source": [
    "The reason we try to adhere to the style guide is that it makes things easier to review down the road.  If we know that our style guide tells us to capitalize classes and leave function names lower case then we can tell the difference between a variable assigned from a class (as above) and one that gets its value from a function.\n",
    " \n",
    "Instances can also be created by assignment and copying:"
   ]
  },
  {
   "cell_type": "code",
   "execution_count": 13,
   "metadata": {
    "collapsed": true
   },
   "outputs": [],
   "source": [
    "import copy\n",
    "\n",
    "p1 = Point3d()\n",
    "p2 = p1                 #p2 is an alias of p1\n",
    " \n",
    "p3 = copy.deepcopy(p1)  #p3 is a new instance"
   ]
  },
  {
   "cell_type": "markdown",
   "metadata": {},
   "source": [
    "## Data Attribute Assignment and Use:\n",
    "\n",
    "Objects have properties (e.g., hair color, bank balance, number of enrolled students) reflecting the status of the particular class instance. In Python an object's data attributes – like its methods – are accessed using the familiar \"dot\" notation we've seen earlier. Examples:\n",
    " \n",
    "### Assignment:"
   ]
  },
  {
   "cell_type": "code",
   "execution_count": 21,
   "metadata": {
    "collapsed": false
   },
   "outputs": [
    {
     "name": "stdout",
     "output_type": "stream",
     "text": [
      "34.05 -118.24\n",
      "<__main__.City instance at 0x02D889E0>\n"
     ]
    }
   ],
   "source": [
    "import math\n",
    "\n",
    "losAngeles = City()\n",
    "losAngeles.latitude  = 34.05   \n",
    "losAngeles.longitude = -118.24\n",
    " \n",
    "burtsWell = Water_well()\n",
    "burtsWell.depth      = 257\n",
    "burtsWell.contractor = \"Ekhardt\"\n",
    "burtsWell.pH         = 8.3\n",
    " \n",
    "burtsWell.pH   = \"alkaline\" #now depth is a string\n",
    " \n",
    "Water_well.depth     = 257 #error “depth” not in class def\n",
    "                         \n",
    "# Can use values in other statements:\n",
    "print losAngeles.latitude, losAngeles.longitude\n",
    " \n",
    "logDepth = math.log(float(burtsWell.depth))\n",
    "\n",
    "print losAngeles   #can we print the entire object?"
   ]
  },
  {
   "cell_type": "markdown",
   "metadata": {},
   "source": [
    "Note the last output that looks really weird: `<__main__.City instance at 0x02D889E0>`\n",
    "\n",
    "This is what the class output looks like.  Even though we've assigned all sorts of variables into the class, they're encapsulated, so when we try to print out the class we don't see anything.  We'll see how to generate special print methods for classes in a bit.\n",
    "\n",
    "**Important Point:**\n",
    " \n",
    "Assignment statements can change values or create new class members. Assignment statements are fine for changing values, but not the best way to create properties that all instances must have. E.g., if all wells must have a `depth` attribute, there is a better way to create that property (see __init__ below).\n",
    "\n",
    "# Class Methods\n",
    "\n",
    "Behavior is another attribute of classes, known as \"methods\" in OO languages.  You have seen these before, e.g. lists have their `sort()` method. \n",
    "\n",
    "Methods are like functions, but are defined *within* the class are therefore part of the class and not part of the global environment.\n",
    " \n",
    "Syntax:"
   ]
  },
  {
   "cell_type": "code",
   "execution_count": null,
   "metadata": {
    "collapsed": true
   },
   "outputs": [],
   "source": [
    "class  ClassName:\n",
    "  def method1(self, parm1, parm2, …):\n",
    "    statement 1\n",
    "    statement 2\n",
    "    statement 3\n",
    "    .\n",
    "    .\n",
    "    .\n",
    "  def method2(self, parm1, parm2, …):\n",
    "    statement 1\n",
    "    statement 2\n",
    "    .\n",
    "    .\n",
    "    .\n",
    " "
   ]
  },
  {
   "cell_type": "markdown",
   "metadata": {},
   "source": [
    "Where `method1()` and `method2()` are methods belonging to the class `ClassName`. The first parameter (`self`) is always required, but `parm1`, `parm2`, … are optional, and can be called whatever you want, depending on what you want the method to do.\n",
    " \n",
    "## Example 12.1 (Example12.01.py):"
   ]
  },
  {
   "cell_type": "code",
   "execution_count": 22,
   "metadata": {
    "collapsed": false
   },
   "outputs": [
    {
     "name": "stdout",
     "output_type": "stream",
     "text": [
      "Los Angeles is at latitude 33.93\n",
      "Madison is at latitude 43.08\n"
     ]
    }
   ],
   "source": [
    "class City:\n",
    "  def printLatitude(self):\n",
    "    print \"%s is at latitude %.2f\" %(self.name,self.lat)\n",
    "\n",
    "LA = City()\n",
    "LA.name = \"Los Angeles\"\n",
    "LA.lat  = 33.93\n",
    "\n",
    "Mad = City()\n",
    "Mad.name = \"Madison\"\n",
    "Mad.lat = 43.08\n",
    " \n",
    "LA.printLatitude()\n",
    "Mad.printLatitude()"
   ]
  },
  {
   "cell_type": "markdown",
   "metadata": {},
   "source": [
    "## Exercise 12.1:\n",
    "\n",
    "Add a method to the city example that prints the longitude.\n",
    "\n",
    "Go to [Exercise 12.1](https://uwmad.courses.wisconsin.edu/d2l/le/content/2956994/viewContent/18805691/View)\n",
    "\n",
    "`self` refers to a particular instance (like “this” in Java, C++, etc.). The word “self” appears in the definition, but not in the invocation of the method.\n",
    " \n",
    "But why is self needed?  Two examples:\n",
    " \n",
    "## Example 12.2 (Example12.02.py):"
   ]
  },
  {
   "cell_type": "code",
   "execution_count": 23,
   "metadata": {
    "collapsed": false
   },
   "outputs": [
    {
     "name": "stdout",
     "output_type": "stream",
     "text": [
      "lat is 999\n",
      "lat is 999\n"
     ]
    }
   ],
   "source": [
    "class BadCity:\n",
    "  def printLatitude(self):\n",
    "    print \"lat is\",lat\n",
    "\n",
    "lat = 999  # define a global variable called 'lat'\n",
    "\n",
    "LA = BadCity()\n",
    "LA.name = \"Los Angeles\"\n",
    "LA.lat = 33.93\n",
    " \n",
    "Mad = BadCity()\n",
    "Mad.name = \"Madison\"\n",
    "Mad.lat  = 43.08\n",
    " \n",
    "LA.printLatitude()\n",
    "Mad.printLatitude()"
   ]
  },
  {
   "cell_type": "markdown",
   "metadata": {},
   "source": [
    "Why did this happen?  When we defined `printLatitude` we used the variable name `lat`, and this was associated with a global variable we subsequently defined.  We use `self` to clearly indicate that the method is using attribute of the class itself.\n",
    "\n",
    "Another Example:  Suppose we want a method that computes and prints the distance north from another city.  We will call the method like so: "
   ]
  },
  {
   "cell_type": "code",
   "execution_count": null,
   "metadata": {
    "collapsed": true
   },
   "outputs": [],
   "source": [
    "LA.printMilesNorth(Mad)"
   ]
  },
  {
   "cell_type": "markdown",
   "metadata": {},
   "source": [
    "If we want this to work, then the method must be defined in the class:\n",
    " \n",
    "## Example 12.3 (Example12.03.py):"
   ]
  },
  {
   "cell_type": "code",
   "execution_count": 34,
   "metadata": {
    "collapsed": false
   },
   "outputs": [
    {
     "name": "stdout",
     "output_type": "stream",
     "text": [
      "Madison is 631.8 miles north of Los Angeles\n",
      "Los Angeles is -631.8 miles north of Madison\n"
     ]
    }
   ],
   "source": [
    "class City:\n",
    "  def printLatitude(self):\n",
    "    print \"%s is at latitude %.2f\" (self.name,self.lat)\n",
    "  def printMilesNorth(self, othercity):\n",
    "    dist   = (self.lat - othercity.lat) * 24859./360.\n",
    "    format = \"%s is %.1f miles north of %s\"\n",
    "    values = (self.name, dist, othercity.name)\n",
    "    print format % values\n",
    "      \n",
    "LA = City()\n",
    "LA.name = \"Los Angeles\"\n",
    "LA.lat = 33.93\n",
    " \n",
    "Mad = City()\n",
    "Mad.name = \"Madison\"\n",
    "Mad.lat  = 43.08\n",
    " \n",
    "Mad.printMilesNorth(LA)\n",
    "LA.printMilesNorth(Mad)"
   ]
  },
  {
   "cell_type": "markdown",
   "metadata": {},
   "source": [
    "We see `self` was needed to distinguish between the two latitudes, and, as we saw before, you need to differentiate values from within the class from global variables. (Use of  \"self\" is actually just a convention; other variable names can be used but this is not recommended)\n",
    " \n",
    "## Exercise 12.2:\n",
    "1. add a new method to the City class called printLatDiff which prints the latitude difference (absolute value) between two cities. \n",
    "2. Define a separate function outside of any class to accomplish the same functionality as printLatDiff . The function definition should be:\n",
    "\n",
    "def printLatDiff(city1,city2):\n",
    "\n",
    "3. Now suppose at some point in the future you decide to store a City’s latitude and longitude as a tuple.  Is anything more than a change to the class definition required? Would the new function created in b)  need to change?\n",
    " \n",
    "Go to [Exercise 12.2](https://uwmad.courses.wisconsin.edu/d2l/le/content/2956994/viewContent/18805690/View)\n",
    "\n",
    "# The `__init__` Method (aka constructor)\n",
    " \n",
    "An *init*ialization method is a special method that is called when an instance is created. In Python the name of this method is `__init__`.  This is **two** underscores `_` `_` followed by `init`, followed by two more underscores `_` `_` with no blanks.\n",
    " \n",
    "We use `__init__` to assign default values to data attributes, create any essential variables, and possibly ensure every instance has its own set of values.  This way we don't have to go through the process \n",
    " \n",
    "Syntax:"
   ]
  },
  {
   "cell_type": "code",
   "execution_count": null,
   "metadata": {
    "collapsed": true
   },
   "outputs": [],
   "source": [
    "def __init__(self, parm1=val1, parm2=val2, . . .):"
   ]
  },
  {
   "cell_type": "markdown",
   "metadata": {},
   "source": [
    "Where `val1`, `val2`, &cetera are default values assigned to `parm1` and `parm2`, respectively. Setting default values is optional but strongly recommended - you need a good reason not to use default values (even if it's a nonsense value)!\n",
    " \n",
    "## Example 12.4:\n",
    " "
   ]
  },
  {
   "cell_type": "code",
   "execution_count": 36,
   "metadata": {
    "collapsed": false
   },
   "outputs": [
    {
     "name": "stdout",
     "output_type": "stream",
     "text": [
      "longitude of LA is -120.0\n",
      "longitude of Mad is -999\n"
     ]
    }
   ],
   "source": [
    "class City:\n",
    "    def __init__(self, name='n/a', lat = -999, lon = -999):\n",
    "        self.name = name\n",
    "        self.lat  = lat\n",
    "        self.lon  = lon\n",
    "       \n",
    "    def printLatitude(self):\n",
    "        print \"%s is at latitude %.2f\" % (self.name,self.lat)\n",
    "       \n",
    "    def printMilesNorth(self,city):\n",
    "        dist = (self.lat-city.lat)*24859./360.\n",
    "        Fmt  = \"%s is %.1f miles north of %s\"\n",
    "        vals = (self.name, dist, city.name)\n",
    "        print fmt % vals\n",
    " \n",
    "#create LA and over-ride all default values\n",
    "LA = City(name = 'Los Angeles', lat=33.93, lon=-120.)\n",
    " \n",
    "#create Mad and over-ride two default values\n",
    "Mad = City(name='Madison', lat=43.08)\n",
    " \n",
    "print 'longitude of LA is',LA.lon\n",
    "print 'longitude of Mad is',Mad.lon"
   ]
  },
  {
   "cell_type": "markdown",
   "metadata": {},
   "source": [
    "Alternative 1 - same result, since the arguments are in the same order as they're declared in the `__init__`:"
   ]
  },
  {
   "cell_type": "code",
   "execution_count": 37,
   "metadata": {
    "collapsed": false
   },
   "outputs": [
    {
     "name": "stdout",
     "output_type": "stream",
     "text": [
      "longitude of LA is -120.0\n",
      "longitude of Mad is -999\n"
     ]
    }
   ],
   "source": [
    "LA  = City(\"Los Angeles\", 33.93, -120.)\n",
    "Mad = City(\"Madison\", 43.08)\n",
    "print 'longitude of LA is',LA.lon\n",
    "print 'longitude of Mad is',Mad.lon"
   ]
  },
  {
   "cell_type": "markdown",
   "metadata": {},
   "source": [
    "Alternative 2 (same result):"
   ]
  },
  {
   "cell_type": "code",
   "execution_count": 39,
   "metadata": {
    "collapsed": false
   },
   "outputs": [
    {
     "name": "stdout",
     "output_type": "stream",
     "text": [
      "longitude of LA is -120.0\n",
      "longitude of Mad is -999\n"
     ]
    }
   ],
   "source": [
    "LA  = City()\n",
    "LA.name = \"Los Angeles\"\n",
    "LA.lat  = 43.08\n",
    "LA.lon  = -120.\n",
    " \n",
    "Mad = City()\n",
    "Mad.name = \"Madison\"\n",
    "Mad.lat = 43.08\n",
    "\n",
    "print 'longitude of LA is',LA.lon\n",
    "print 'longitude of Mad is',Mad.lon"
   ]
  },
  {
   "cell_type": "markdown",
   "metadata": {},
   "source": [
    "`__init__()` is not especially useful in this example, but we get a sense of some of the reasons it might be useful:\n",
    "\n",
    "1. `__init__` is a good place to establish essential data attributes and set default values if not provided during initialization\n",
    "2. The `__init()` statement can be used to test for valid input values (Lon and Lat in this case)\n",
    "\n",
    "Be careful that you're using the right assignment variable names, and taking care to watch what gets assigned to `self.` and what is refering to the variables being passed into the class.  It's easy to get errors raised, telling you a class attribute doesn't exist, because you failed to assign it as `self.whatever` in the `__init__()` methond.\n",
    " \n",
    " \n",
    "## Exercise 12.3:\n",
    "Modify the City class `__init__()` to test if the input lon and lat values are valid. If not the function should assign the default value.\n",
    "\n",
    "Go to [Exercise 12.3](https://uwmad.courses.wisconsin.edu/d2l/le/content/2956994/viewContent/18805694/View)\n",
    "\n",
    "# Inheritance\n",
    " \n",
    "A selling point of OOP is code re-use; this is partially achieved though inheritance\n",
    " \n",
    "Basic Idea: Create descendants from a base class (or classes)\n",
    " \n",
    "Ancestors are identified in sub-class definition. Descendants have all of their ancestor methods. Can also ensure all ancestor data attributes are inherited by descendant.\n",
    " \n",
    "Vocabulary variable but fairly obvious. All of these make the same distinction:\n",
    " \n",
    "ancestor vs. descendant\n",
    "parent vs. child\n",
    "base class vs. sub-class\n",
    "\n",
    "The syntax is trivial, we simply name any ancestors in a class parameter list:"
   ]
  },
  {
   "cell_type": "code",
   "execution_count": null,
   "metadata": {
    "collapsed": true
   },
   "outputs": [],
   "source": [
    "class ChildClassName(Parent1, Parent2, . . .):\n",
    "  statement1\n",
    "  statement2\n",
    "  statement3"
   ]
  },
  {
   "cell_type": "markdown",
   "metadata": {},
   "source": [
    " \n",
    "where `ChildClassName` is the name of the new class. This will derive from classes `Parent1`, `Parent2`, ...  In practice there will usually be only one parent class.  What this means is that the attributes and methods associated with the Parent Class become attributes of the Child Class, along with any new attributes that are declared within the child class.  As shown above it is possible to inherit from multiple parent classes.  This is not the case in many programming languages, and requires a relatively complex system of \"method resolution\".   For example, if `Parent1` and `Parent2` both contain a method `sum`, that varies between the two classes, then `ChildClassName` needs to inherit a single `sum` method.  This is documented well for Python 2.3 [here](https://www.python.org/download/releases/2.3/mro/), I don't know of a similar document for v2.7.\n",
    "\n",
    "What if there's no parent? That is, what if we are defining top-level class, and therefore no base or ancestor class exists? Two options:\n",
    " \n",
    "1. Don’t give a parent name, as in all the examples above:"
   ]
  },
  {
   "cell_type": "code",
   "execution_count": null,
   "metadata": {
    "collapsed": true
   },
   "outputs": [],
   "source": [
    "class ClassName:\n",
    "        pass"
   ]
  },
  {
   "cell_type": "markdown",
   "metadata": {},
   "source": [
    "2. Use the keyword \"object\" as the parent:"
   ]
  },
  {
   "cell_type": "code",
   "execution_count": null,
   "metadata": {
    "collapsed": true
   },
   "outputs": [],
   "source": [
    "class ClassName(object):\n",
    "    pass"
   ]
  },
  {
   "cell_type": "markdown",
   "metadata": {},
   "source": [
    "For example:"
   ]
  },
  {
   "cell_type": "code",
   "execution_count": null,
   "metadata": {
    "collapsed": true
   },
   "outputs": [],
   "source": [
    "class Water_well(object):\n",
    "     pass"
   ]
  },
  {
   "cell_type": "markdown",
   "metadata": {},
   "source": [
    "Option 1 defines \"old-style\" classes. Option 2 defines \"new-style\" classes. The distinction doesn't matter to us in Geog 378, and we will use old-style classes througout.\n",
    "\n",
    "Syntax Examples:"
   ]
  },
  {
   "cell_type": "code",
   "execution_count": null,
   "metadata": {
    "collapsed": true
   },
   "outputs": [],
   "source": [
    "class Furniture:\n",
    "  statement1\n",
    "  statement2\n",
    "\n",
    "class Chair(Furniture): #subclass of Furniture\n",
    "  statement1\n",
    "  statement2\n",
    "\n",
    "class RockingChair(Chair):#descendant of Chair & Furniture\n",
    "  statement1\n",
    "  statement2\n",
    "\n",
    "class FoldingChair(Chair):#descendant of Chair & Furniture\n",
    "  statement1\n",
    "  statement2\n",
    "\n",
    "class Shape:\n",
    "  pass\n",
    "\n",
    "class Rectangle(Shape):\n",
    "  pass\n",
    "\n",
    "class Polygon(Shape,Arc): #descendant of Shape and Arc\n",
    "  pass\n",
    "    "
   ]
  },
  {
   "cell_type": "markdown",
   "metadata": {},
   "source": [
    "## Example 12.5 (Example12.05.py):"
   ]
  },
  {
   "cell_type": "code",
   "execution_count": 40,
   "metadata": {
    "collapsed": false
   },
   "outputs": [
    {
     "name": "stdout",
     "output_type": "stream",
     "text": [
      "Child a,b,ApB:  2 3 5\n"
     ]
    }
   ],
   "source": [
    "class Base:\n",
    "    def __init__(self,A=2,B=3):\n",
    "        self.a = A\n",
    "        self.b = B\n",
    "       \n",
    "    def ApB(self):\n",
    "        return self.a + self.b\n",
    " \n",
    "class SubClass(Base):\n",
    "    pass\n",
    " \n",
    "child = SubClass()\n",
    "print \"Child a,b,ApB: \",child.a,  child.b,  child.ApB() "
   ]
  },
  {
   "cell_type": "markdown",
   "metadata": {},
   "source": [
    "**Over-rides**: When a method is defined in the child that also exists in the parent, the child's method \"replaces\" the parent's method. That is, the child's method gets used in the child. The parent version is not deleted, but it is not used when the child method is called. Example:\n",
    " \n",
    "## Example 12.6 (Example12.06.py):\n",
    "\n",
    "Redefining & replacing a Parent method within a child class."
   ]
  },
  {
   "cell_type": "code",
   "execution_count": 42,
   "metadata": {
    "collapsed": false
   },
   "outputs": [
    {
     "name": "stdout",
     "output_type": "stream",
     "text": [
      "Parent a,b,ApB: 2 3 5\n",
      "Child  a,b,ApB: 2 3 6\n"
     ]
    }
   ],
   "source": [
    "class Base:\n",
    "    def __init__(self,A=2,B=3):\n",
    "        self.a = A\n",
    "        self.b = B\n",
    "    def ApB(self):\n",
    "        return self.a + self.b\n",
    "\n",
    "class SubClass(Base):\n",
    "    def ApB(self): #over-rides parent’s definition\n",
    "        return self.a * self.b\n",
    "\n",
    "parent = Base()\n",
    "child  = SubClass()\n",
    "print \"Parent a,b,ApB:\",parent.a, parent.b, parent.ApB()\n",
    "print \"Child  a,b,ApB:\",child.a,  child.b,  child.ApB()"
   ]
  },
  {
   "cell_type": "markdown",
   "metadata": {},
   "source": [
    "See `ApB()` in the child class `SubClass` has replaced the parent definition.\n",
    " \n",
    "## Exercise 12.4:\n",
    "\n",
    "Write a method for the `Base` class shown above that is called `equals(self, testValue)`: If `a` and `testValue` are equal, return `True`; otherwise, return `False`. In the child class, write a method to override the Parent's `equals`: If either `a` or `b` is equal to the test value, return `True`; otherwise, return `False`.\n",
    "\n",
    "Go to [Exercise 12.4](https://uwmad.courses.wisconsin.edu/d2l/le/content/2956994/viewContent/18805688/View)\n",
    " \n",
    " \n",
    "Just as the child can over write methods, if  `__init__()` exists in a child the parents' `__init__()` is over-ridden and therefore not invoked. To illustrate:\n",
    " \n",
    "## Example 12.7 (Example12.07.py):\n",
    "\n",
    "Overwriting the `__init__()` method here will prevent the child class `SubClass` from assigning a value to `self.a` and `self.b`, even though these assignments are defined in the parent class `Base`."
   ]
  },
  {
   "cell_type": "code",
   "execution_count": 43,
   "metadata": {
    "collapsed": false
   },
   "outputs": [
    {
     "name": "stdout",
     "output_type": "stream",
     "text": [
      "child.c is 4\n",
      "child.a is"
     ]
    },
    {
     "ename": "AttributeError",
     "evalue": "SubClass instance has no attribute 'a'",
     "output_type": "error",
     "traceback": [
      "\u001b[1;31m---------------------------------------------------------------------------\u001b[0m",
      "\u001b[1;31mAttributeError\u001b[0m                            Traceback (most recent call last)",
      "\u001b[1;32m<ipython-input-43-204d330f8d45>\u001b[0m in \u001b[0;36m<module>\u001b[1;34m()\u001b[0m\n\u001b[0;32m     18\u001b[0m \u001b[1;33m\u001b[0m\u001b[0m\n\u001b[0;32m     19\u001b[0m \u001b[1;32mprint\u001b[0m \u001b[1;34m\"child.c is\"\u001b[0m\u001b[1;33m,\u001b[0m\u001b[0mchild\u001b[0m\u001b[1;33m.\u001b[0m\u001b[0mc\u001b[0m\u001b[1;33m\u001b[0m\u001b[0m\n\u001b[1;32m---> 20\u001b[1;33m \u001b[1;32mprint\u001b[0m \u001b[1;34m\"child.a is\"\u001b[0m\u001b[1;33m,\u001b[0m\u001b[0mchild\u001b[0m\u001b[1;33m.\u001b[0m\u001b[0ma\u001b[0m\u001b[1;33m\u001b[0m\u001b[0m\n\u001b[0m",
      "\u001b[1;31mAttributeError\u001b[0m: SubClass instance has no attribute 'a'"
     ]
    }
   ],
   "source": [
    "class Base:\n",
    "    def __init__(self, A = 2, B = 3):\n",
    "        self.a = A\n",
    "        self.b = B\n",
    "\n",
    "    def ApB(self):\n",
    "        return self.a + self.b\n",
    " \n",
    "class SubClass(Base):\n",
    "    def __init__(self):\n",
    "        self.c = 4\n",
    "       \n",
    "    def ApB(self):\n",
    "        return self.a * self.b\n",
    " \n",
    "child = SubClass()\n",
    "\n",
    "print \"child.c is\",child.c\n",
    "print \"child.a is\", child.a"
   ]
  },
  {
   "cell_type": "markdown",
   "metadata": {},
   "source": [
    "This error occurs because we don't have an `a` in the `child` object.\n",
    "\n",
    "## Example 12.8 (Example12.08.py):\n",
    "\n",
    "How do we add to the parent's initialization method without having to rewrite it completely?  We explicitly call the parent method's `__init__`."
   ]
  },
  {
   "cell_type": "code",
   "execution_count": 45,
   "metadata": {
    "collapsed": false
   },
   "outputs": [
    {
     "name": "stdout",
     "output_type": "stream",
     "text": [
      "child.c is 4\n",
      "child.a is 2\n"
     ]
    }
   ],
   "source": [
    "class Base:\n",
    "    def __init__(self,A=2,B=3):\n",
    "        self.a = A\n",
    "        self.b = B\n",
    "       \n",
    "    def ApB(self):\n",
    "        return self.a + self.b\n",
    "\n",
    "class SubClass(Base):\n",
    "    def __init__(self):\n",
    "        Base.__init__(self)   #call parent’s initializer\n",
    "        self.c = 4\n",
    "    def ApB(self): #over-rides Base definition\n",
    "        return self.a * self.b\n",
    " \n",
    " \n",
    "child = SubClass()\n",
    "print \"child.c is\",child.c\n",
    "print \"child.a is\",child.a"
   ]
  },
  {
   "cell_type": "markdown",
   "metadata": {},
   "source": [
    "## A more complete example:\n",
    "Consider a more complete example for the analysis of spatial data. To accurately represent the spatial data we need a variety of vector-type spatial units: cities, states, land parcels, park areas. All of these features, no matter their type, have common attributes and methods:\n",
    "\n",
    "1. Common data attributes: \n",
    "    * area\n",
    "    * center\n",
    "    * a set of vertices defining a perimeter (values differ, but every instance has these values)\n",
    "2. Common methods:  Regardless of a feature’s type, we need methods to:\n",
    "    1.  find the center\n",
    "    2.  compute the area\n",
    "    3.  test for point inclusion\n",
    "\n",
    "Each type of feature also has distinct attributes: e.g., states have a capital; parcels have an owner, &cetera. We could consider all of these objects as a particular type of polygon. Class hierarchy:\n",
    "\n",
    "Classes needed:\n",
    "\n",
    "* **Point**: objects with a location (x,y) but nothing else. Needed for center and perimeter.\n",
    " \n",
    "* **Polygon** the base spatial unit class: Has a center point, list of perimeter points, an area value, and the above common methods:\n",
    "\n",
    "    * Compute Center, (xc, yc) : xc = Σ xi/n,  yc = Σ yi/n\n",
    " \n",
    "    * Compute Area, A = |½ ∑ (xi yi+1 – xi+1 yi)|\n",
    " \n",
    "    * Point in Polygon Test for point (x,y) : Extend ray from (x,y) to the right, count number of times ray crosses the perimeter. If it's zero times then the point is outside the polygon. If it crosses an odd number of times then (x,y) is inside.  If it's an even number of times, then it's outside.\n",
    " \n",
    "In what follows, don’t worry about the programming details of these methods. The important thing is to understand how they fit in the class.\n",
    " \n",
    "3 Derived Classes:\n",
    "\n",
    "* City Class:   Polygon with a name and population\n",
    "* Parcel Class: Polygon with an owner and assessed value\n",
    "* County Class: Polygon with a name, seat, and count of incorporated cities in the county\n",
    "\n",
    "**Important Point:**\n",
    "Assignment statements can change values or create new class members. Assignment statements are fine for changing values, but not the best way to create properties that all instances must have. E.g., if all wells must have a depth, there is a better way to create that property (see `__init__` below).\n"
   ]
  },
  {
   "cell_type": "markdown",
   "metadata": {},
   "source": [
    "## Example 12.9 (Example12.09.py):\n",
    "\n",
    "This is a very long program.  The code for this program and the other examples is included in a zipped fille associated with this lecture. The program output interspersed and shown in red.\n",
    "\n",
    "Here we use -999 and -999 as default `x` and `y` values. It is dangerous to have default values that could be actual values.  For example, [0, 0] is a real place on the globe, just south of Ghana.  Even if it's unlikely to be a city the fact that it's a remotely reasonable value may result in problem if you're looking at a large number of cities and you're not paying attention."
   ]
  },
  {
   "cell_type": "code",
   "execution_count": 72,
   "metadata": {
    "collapsed": false
   },
   "outputs": [
    {
     "name": "stdout",
     "output_type": "stream",
     "text": [
      "triangle center: [40.00,26.67]\n",
      "triangle area:    400.00\n"
     ]
    }
   ],
   "source": [
    "class Point:\n",
    "   def __init__(self, x = -999, y = -999):\n",
    "        self.x = x\n",
    "        self.y = y\n",
    "       \n",
    "class Polygon:\n",
    "    #could be initialized with set of points\n",
    "    def __init__(self, pts = [Point(-999,-999)]):\n",
    "        self.pts    = pts\n",
    "        self.computeCenter()\n",
    "        self.computeArea()\n",
    "    \n",
    "    def computeCenter(self):\n",
    "        'Find the average (x,y) of perimeter'\n",
    "        n = len(self.pts)\n",
    "        self.center = Point(0,0)\n",
    "        if n > 0:\n",
    "            for point in self.pts:\n",
    "                self.center.x += point.x\n",
    "                self.center.y += point.y\n",
    " \n",
    "            self.center.x /= float(n)\n",
    "            self.center.y /= float(n)\n",
    " \n",
    "        return self.center\n",
    " \n",
    "    def computeArea(self):\n",
    "        'Find area defined by the perimeter'\n",
    "        n = len(self.pts)\n",
    "        self.area = 0\n",
    "        if n > 2:\n",
    "            for i in xrange(-1,n-1):\n",
    " \n",
    "                xi = self.pts[i].x\n",
    "                yi = self.pts[i].y\n",
    "                \n",
    "                xj = self.pts[i+1].x\n",
    "                yj = self.pts[i+1].y\n",
    " \n",
    "                self.area = self.area + xi*yj - xj*yi\n",
    "               \n",
    "            self.area = abs(self.area)/2.\n",
    "           \n",
    "        return self.area\n",
    "   \n",
    "    def surroundsPt(self, p):\n",
    "        'Point in Polygon test using ray count method'\n",
    "        n = len(self.pts)\n",
    " \n",
    "        # You can't have a polygon with less than three points!\n",
    "        if n < 3: return false\n",
    " \n",
    "        # p is the point we're testing:\n",
    "        x = p.x\n",
    "        y = p.y\n",
    "       \n",
    "        crossingCount = 0\n",
    "     \n",
    "        for i in xrange(-1,n-1):\n",
    "          xi = self.pts[i].x\n",
    "          yi = self.pts[i].y\n",
    "              \n",
    "          xj = self.pts[i+1].x\n",
    "          yj = self.pts[i+1].y\n",
    " \n",
    "          if((yi <= y and y < yj) or (yj <= y and y < yi)):\n",
    " \n",
    "             xCross = float(xj-xi)*(y-yi)/(yj-yi) + xi\n",
    "            \n",
    "             if  (x < xCross): crossingCount += 1\n",
    " \n",
    "        #odd crossingCount means (x,y) is inside\n",
    "        if crossingCount % 2 == 1: return True\n",
    "        else                     : return False\n",
    " \n",
    " \n",
    "class City(Polygon):\n",
    "    def __init__(self, name = '', population = 0, pts = [Point(-999,-999)]):\n",
    "        Polygon.__init__(self,pts)\n",
    "        self.name = name\n",
    "        self.pop  = population\n",
    " \n",
    "       \n",
    "class Parcel(Polygon):\n",
    "    def __init__(self, owner = '', number = 0, assesment = 0, pts = [Point(-999,-999)]):\n",
    "        Polygon.__init__(self,pts)\n",
    "        self.owner      = owner\n",
    "        self.number     = number\n",
    "        self.assessment = assessment\n",
    "       \n",
    " \n",
    "class County(Polygon):\n",
    "    def __init__(self,name = '',seat = '', cityCount = 0, pts = [Point(-999,-999)]):\n",
    "        Polygon.__init__(self, pts)\n",
    "        self.name      = name\n",
    "        self.seat      = seat\n",
    "        self.cityCount = cityCount\n",
    "        Polygon.__init__(self)\n",
    " \n",
    "triangle = Polygon([Point(20,20),Point(40,40),Point(60,20)])\n",
    " \n",
    "print 'triangle center: [%.2f,%.2f]' %(triangle.center.x, triangle.center.y)\n",
    "print 'triangle area: {:9.2f}'.format(triangle.area)"
   ]
  },
  {
   "cell_type": "code",
   "execution_count": 73,
   "metadata": {
    "collapsed": false
   },
   "outputs": [
    {
     "name": "stdout",
     "output_type": "stream",
     "text": [
      "a_city's properties:\n",
      "   name: c1\n",
      "    pop: 200.00\n",
      "   area: 400.00\n",
      " center: [40.00,26.67]\n"
     ]
    }
   ],
   "source": [
    "# Note, this could be par of an __repr__ in the City definition:\n",
    "a_city = City(name='c1',population = 200,pts = [Point(20,20),Point(40,40),Point(60,20)])\n",
    " \n",
    "print \"a_city's properties:\"\n",
    "print '   name: ' + a_city.name\n",
    "print '    pop: %.2f' % a_city.pop\n",
    "print '   area: %.2f' % a_city.area\n",
    "print ' center: [%.2f,%.2f]' % (a_city.center.x,a_city.center.y)\n"
   ]
  },
  {
   "cell_type": "code",
   "execution_count": 74,
   "metadata": {
    "collapsed": false
   },
   "outputs": [
    {
     "name": "stdout",
     "output_type": "stream",
     "text": [
      "City with default center and area\n",
      "Boxton, WI (population 117) is centered on (-999.0,-999.0), its area is 0.0\n",
      "\n"
     ]
    }
   ],
   "source": [
    "bTown = City('Boxton, WI',117)\n",
    "\n",
    "print \"City with default center and area\"\n",
    "vals = (bTown.name, bTown.pop, \\\n",
    "        bTown.center.x, bTown.center.y, bTown.area)\n",
    "fmt = \"%s (population %d) is centered on (%.1f,%.1f), its area is %.1f\\n\"\n",
    " \n",
    "print fmt % vals\n",
    "\n",
    "#  Here we see that Boxton gets a wonky initial value for X and Y because\n",
    "#  we've defined default x and y values throughout.\n",
    "#  If it were [0,0] we might run into problems, but the value\n",
    "#  is so large we're unlikely to let this slip by."
   ]
  },
  {
   "cell_type": "code",
   "execution_count": 75,
   "metadata": {
    "collapsed": false
   },
   "outputs": [
    {
     "name": "stdout",
     "output_type": "stream",
     "text": [
      "City with revised attributes\n",
      "Boxton, WI (population 117) is centered on (1.0,0.5), its area is 2.0\n",
      "\n"
     ]
    }
   ],
   "source": [
    "bTown.pts = [ Point(0,0), Point(0,1), Point(2,1), Point(2,0)]\n",
    "bTown.computeArea()\n",
    "bTown.computeCenter()\n",
    " \n",
    "vals = (bTown.name, bTown.pop, \\\n",
    "        bTown.center.x, bTown.center.y, bTown.area)\n",
    " \n",
    "print \"City with revised attributes\"\n",
    "print fmt % vals"
   ]
  },
  {
   "cell_type": "code",
   "execution_count": 76,
   "metadata": {
    "collapsed": false
   },
   "outputs": [
    {
     "name": "stdout",
     "output_type": "stream",
     "text": [
      "Is (.1,.1) inside boxTown? True\n",
      "Is   (3,3) inside boxTown? False\n"
     ]
    }
   ],
   "source": [
    "print 'Is (.1,.1) inside boxTown?',bTown.surroundsPt(Point(.1,.1))\n",
    "print 'Is   (3,3) inside boxTown?',bTown.surroundsPt(Point(3,3))"
   ]
  },
  {
   "cell_type": "code",
   "execution_count": 77,
   "metadata": {
    "collapsed": false
   },
   "outputs": [
    {
     "name": "stdout",
     "output_type": "stream",
     "text": [
      "Does tri surround (50.,50.)? False\n"
     ]
    }
   ],
   "source": [
    "triCo = County(name='Tri County')\n",
    "triCo.pts = [Point(20,20),Point(40,40),Point(80,17)]\n",
    " \n",
    "print 'Does tri surround (50.,50.)?',triCo.surroundsPt(Point(50.,50))"
   ]
  },
  {
   "cell_type": "markdown",
   "metadata": {},
   "source": [
    "Note:\n",
    "\n",
    "1. Inheritance allowed us to re-use code (center, area, point inclusion)\n",
    "2. We could easily replace the point inclusion test with another.  Only one change would be needed. SeeExample12.09_Version2.py.\n",
    " \n",
    "## Exercise 12.5:\n",
    "Design a simple mapping system class hierarchy in Python. Call the base class Shape and the child classes are Point, Polyline and Polygon. The base class has a method draw and each child class has its own draw method. You don’t need to implement the draw method. Just provide the program outline using pass statements as placeholders. Feel free to add class members and even other classes you think are necessary.\n",
    "\n",
    "Go to [Exercise 12.5](https://uwmad.courses.wisconsin.edu/d2l/le/content/2956994/viewContent/18805693/View)\n",
    "\n",
    "# Composition\n",
    " \n",
    "Just like in the real world, Python objects can contain other objects. That is, objects can be nested. We saw this with the `Polygon` class above, which contained a list of points. These were assumed to be Point objects. This is composition, different than inheritance. Consider a slightly more complicated example:\n",
    " \n",
    "## Example 12.10 \n",
    "This example assumes Polygon and City classes are defined as above."
   ]
  },
  {
   "cell_type": "code",
   "execution_count": 79,
   "metadata": {
    "collapsed": false
   },
   "outputs": [
    {
     "name": "stdout",
     "output_type": "stream",
     "text": [
      "WI name and pop: Wisconsin 5536201\n",
      "WI capital name and capital pop:  0\n",
      "WI capital name and capital pop: Madison 245323\n"
     ]
    }
   ],
   "source": [
    "class State(Polygon):\n",
    "    def __init__(self,name = '',population=0):\n",
    "        self.name    = name\n",
    "        self.pop     = population\n",
    "        self.capital = City(name='',population=0)\n",
    "        Polygon.__init__(self)\n",
    " \n",
    "MadTown = City(name='Madison', population = 245323)\n",
    "       \n",
    "WI = State('Wisconsin',5536201)\n",
    "print 'WI name and pop:',WI.name,WI.pop\n",
    "print 'WI capital name and capital pop:', \\\n",
    "       WI.capital.name, WI.capital.pop\n",
    " \n",
    "WI.capital = MadTown;\n",
    "print 'WI capital name and capital pop:', \\\n",
    "      WI.capital.name,WI.capital.pop"
   ]
  },
  {
   "cell_type": "markdown",
   "metadata": {},
   "source": [
    "When `WI` was created, it got the default value for its capital, a city with no name and zero population. Later `MadTown` was assigned as the `capital` of `WI`, and so we see its name and population when we use `print`.\n",
    " \n",
    "The importance of carefully working out the class hierarchy and composition cannot be overstated!\n",
    " \n",
    "## Exercise 12.6:  \n",
    "What do you think of the example hierarchy above, where the Polygon class is the parent of City, Parcel and County classes?  Can you suggest another hierarchy that is closer to how we think of cities, counties and land parcels?\n",
    "\n",
    "Go to [Exercise 12.6](https://uwmad.courses.wisconsin.edu/d2l/le/content/2956994/viewContent/18805692/View)\n",
    "\n",
    "# Data Hiding\n",
    " \n",
    "OOP promises encapsulation, with an implication of data integrity. That is, users can’t assign inappropriate values, or destroy essential data members. Other languages provide this by allowing members to be declared private: accessible only within the class. Python doesn’t have this, and so the following is perfectly legal:\n",
    " "
   ]
  },
  {
   "cell_type": "code",
   "execution_count": 82,
   "metadata": {
    "collapsed": false
   },
   "outputs": [],
   "source": [
    "class City:\n",
    "    def __init__(self, name='n/a', lat = 0, lon = 0):\n",
    "        self.name = name\n",
    " \n",
    "        if -90  <= lat <= 90  : self.lat  = float(lat)\n",
    "        else                  : self.lat  = 0.0\n",
    "                      \n",
    "        if -180 <= lon <= 180 : self.lon  = float(lon)\n",
    "        else                  : self.lon  = 0.0\n",
    " \n",
    " \n",
    " \n",
    "#create a city with a valid location\n",
    "m = City(name='Madison',lat=43,lon=-89)\n",
    " \n",
    "#this clobbers the latitude with an invalid value\n",
    "m.lat = 999"
   ]
  },
  {
   "cell_type": "markdown",
   "metadata": {},
   "source": [
    "Python programmers typically approach this issue by maintaining variables and methods within the class that non-members are supposed to ignore.  In this example, the City class would have longitude and latitude variables that outsiders don’t access. The convention is to use an underscore as the first character of such “private” members.  Of course, these are not truly private; this is just an understanding between the person writing the class and the person using the class. \n",
    " \n",
    "Rather than assign a value to such a variable, a user would call a “set” method. To obtain the value of a private variable a user calls a “get” method. See below how this would play out for the longitude and latitude of the City class:\n",
    "     \n",
    "## Example 12.11 (Example12.11.py):"
   ]
  },
  {
   "cell_type": "code",
   "execution_count": 84,
   "metadata": {
    "collapsed": false
   },
   "outputs": [
    {
     "name": "stdout",
     "output_type": "stream",
     "text": [
      "The lon and lat of Madison are (-89.0, 43.0)\n"
     ]
    }
   ],
   "source": [
    "class City:\n",
    "   def __init__(self, name='n/a', lat = 0, lon = 0):\n",
    "      self.name = name\n",
    "      self.setLonLat(lon,lat)\n",
    "   \n",
    "   def setLonLat(self,lon,lat):\n",
    "      # Note the underscores here:\n",
    "      if -90  <= lat <= 90  : self._lat  = float(lat)\n",
    "      if -180 <= lon <= 180 : self._lon  = float(lon)\n",
    "       \n",
    "   def getLonLat(self):\n",
    "      return (self._lon,self._lat)\n",
    " \n",
    "#create a city with a valid location\n",
    "m = City(name='Madison',lat=43,lon=-89)\n",
    " \n",
    "#this leaves _lon and _lat unchanged:\n",
    "m.setLonLat(999,999)\n",
    " \n",
    "print 'The lon and lat of',m.name,'are',m.getLonLat()"
   ]
  },
  {
   "cell_type": "markdown",
   "metadata": {},
   "source": [
    "**Explanation:**\n",
    "The class needs valid values for longitude and latitude.  It uses \"private\" variables for these named `_lon` and `_lat` respectively. All operations within the class would use these private versions. The class has a method to set values (`setLonLat`) and a method to deliver the current values (`getLonLat`) should a user wish to know them. The setter method will never assign an invalid value. (More robust code would use `try` and `except` blocks in `setLonLat` for added safety.  It would also return a value to indicate whether or not the requested `lon` and `lat` changes were successful.)\n",
    " \n",
    "## Exercise 12.7:\n",
    "Modify the example above so that the city name is also a \"private\" variable. Add setter and getter methods to access the name variable.\n",
    "\n",
    "Go to [Exercise 12.7](https://uwmad.courses.wisconsin.edu/d2l/le/content/2956994/viewContent/18805689/View)\n",
    " \n",
    "To recap: this business of underscore variables is very common in the Python world. For example, if you do `dir([])`, you will see many variables whose name begins with `_`.  We don’t touch those variables.  There are also private *methods* we are not meant to use.  Like the `_xxx` variables, such `_yyy` methods are technically accessible.\n",
    " \n",
    "The practice of using \"Set\"-like  and \"Get\"-like methods is also very common. The next topic will cover the use of GDAL from Python. We will often see \"Get\" methods used to acquire values from GDAL objects.  This is the reason why: GDAL doesn't want us monkeying with its precious data in a non-standard way."
   ]
  }
 ],
 "metadata": {
  "kernelspec": {
   "display_name": "Python 2",
   "language": "python",
   "name": "python2"
  },
  "language_info": {
   "codemirror_mode": {
    "name": "ipython",
    "version": 2
   },
   "file_extension": ".py",
   "mimetype": "text/x-python",
   "name": "python",
   "nbconvert_exporter": "python",
   "pygments_lexer": "ipython2",
   "version": "2.7.8"
  }
 },
 "nbformat": 4,
 "nbformat_minor": 0
}
